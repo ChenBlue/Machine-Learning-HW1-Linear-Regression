{
 "cells": [
  {
   "cell_type": "code",
   "execution_count": 6,
   "metadata": {},
   "outputs": [
    {
     "name": "stdout",
     "output_type": "stream",
     "text": [
      "Shape of dataset: (20640, 8)\n",
      "Shape of label: (20640,)\n",
      "Hello\n",
      "-0.123676147704\n"
     ]
    }
   ],
   "source": [
    "import tensorflow as tf\n",
    "import numpy as np \n",
    "from sklearn.datasets import fetch_california_housing\n",
    "from IPython.display import clear_output, Image, display, HTML\n",
    "\n",
    "###### Do not modify here ###### \n",
    "def strip_consts(graph_def, max_const_size=32):\n",
    "    \"\"\"Strip large constant values from graph_def.\"\"\"\n",
    "    strip_def = tf.GraphDef()\n",
    "    for n0 in graph_def.node:\n",
    "        n = strip_def.node.add() \n",
    "        n.MergeFrom(n0)\n",
    "        if n.op == 'Const':\n",
    "            tensor = n.attr['value'].tensor\n",
    "            size = len(tensor.tensor_content)\n",
    "            if size > max_const_size:\n",
    "                tensor.tensor_content = \"<stripped %d bytes>\"%size\n",
    "    return strip_def\n",
    "\n",
    "def show_graph(graph_def, max_const_size=32):\n",
    "    \"\"\"Visualize TensorFlow graph.\"\"\"\n",
    "    if hasattr(graph_def, 'as_graph_def'):\n",
    "        graph_def = graph_def.as_graph_def()\n",
    "    strip_def = graph_def\n",
    "    #strip_def = strip_consts(graph_def, max_const_size=max_const_size)\n",
    "    code = \"\"\"\n",
    "        <script>\n",
    "          function load() {{\n",
    "            document.getElementById(\"{id}\").pbtxt = {data};\n",
    "          }}\n",
    "        </script>\n",
    "        <link rel=\"import\" href=\"https://tensorboard.appspot.com/tf-graph-basic.build.html\" onload=load()>\n",
    "        <div style=\"height:600px\">\n",
    "          <tf-graph-basic id=\"{id}\"></tf-graph-basic>\n",
    "        </div>\n",
    "    \"\"\".format(data=repr(str(strip_def)), id='graph'+str(np.random.rand()))\n",
    "\n",
    "    iframe = \"\"\"\n",
    "        <iframe seamless style=\"width:1200px;height:620px;border:0\" srcdoc=\"{}\"></iframe>\n",
    "    \"\"\".format(code.replace('\"', '&quot;'))\n",
    "    display(HTML(iframe))\n",
    "###### Do not modify  here ######\n",
    "\n",
    "###### Implement Data Preprocess here ######\n",
    "housing = fetch_california_housing()\n",
    "print(\"Shape of dataset:\", housing.data.shape)\n",
    "print(\"Shape of label:\", housing.target.shape)\n",
    "\n",
    "### Enlarge the Xtrain matrix with ones ###\n",
    "[samples, _]=housing.data.shape\n",
    "dataset = np.concatenate((housing.data, np.ones((samples, 1))), axis = 1)\n",
    "\n",
    "### Split training and testing dataset ###\n",
    "split_index = int(0.9*samples)\n",
    "training = dataset[0:split_index, :]\n",
    "testing = dataset[split_index:, :]\n",
    "\n",
    "target = housing.target[:, np.newaxis]\n",
    "training_target = target[0:split_index, :]\n",
    "testing_target = target[split_index:, :]\n",
    "#train_mean = np.mean(training, axis=0)\n",
    "#training = training - train_mean\n",
    "\n",
    "\n",
    "###### Implement Data Preprocess here ######\n",
    "\n",
    "\n",
    "\n",
    "\n",
    "##### Derive weight from normal equation #####\n",
    "x_train = tf.convert_to_tensor(training)\n",
    "y_train = tf.convert_to_tensor(target)\n",
    "x_trans = tf.transpose(x_train)\n",
    "w = tf.matmul(tf.matmul(tf.matrix_inverse(tf.matmul(x_trans, x_train)),x_trans),y_train)\n",
    "y_pred = tf.matmul(x_train, w)\n",
    "\n",
    "###### Start TF session ######\n",
    "with tf.Session() as sess:\n",
    "    print(\"Hello\")\n",
    "    error_rate = tf.reduce_mean(tf.reduce_sum(tf.divide((y_train-y_pred),y_train), reduction_indices=[1]))\n",
    "    print(sess.run(error_rate))\n",
    "\n",
    "    #show_graph(tf.get_default_graph().as_graph_def())\n",
    "###### Start TF session ######"
   ]
  },
  {
   "cell_type": "code",
   "execution_count": null,
   "metadata": {
    "collapsed": true
   },
   "outputs": [],
   "source": []
  }
 ],
 "metadata": {
  "kernelspec": {
   "display_name": "Python 3",
   "language": "python",
   "name": "python3"
  },
  "language_info": {
   "codemirror_mode": {
    "name": "ipython",
    "version": 3
   },
   "file_extension": ".py",
   "mimetype": "text/x-python",
   "name": "python",
   "nbconvert_exporter": "python",
   "pygments_lexer": "ipython3",
   "version": "3.6.2"
  }
 },
 "nbformat": 4,
 "nbformat_minor": 2
}
